{
  "nbformat": 4,
  "nbformat_minor": 0,
  "metadata": {
    "colab": {
      "provenance": [],
      "authorship_tag": "ABX9TyPa6bAA2GcGqptZ4q/ka57B",
      "include_colab_link": true
    },
    "kernelspec": {
      "name": "python3",
      "display_name": "Python 3"
    },
    "language_info": {
      "name": "python"
    }
  },
  "cells": [
    {
      "cell_type": "markdown",
      "metadata": {
        "id": "view-in-github",
        "colab_type": "text"
      },
      "source": [
        "<a href=\"https://colab.research.google.com/github/EsmeBarker/Collab/blob/main/EsmeBarkU2proj.ipynb\" target=\"_parent\"><img src=\"https://colab.research.google.com/assets/colab-badge.svg\" alt=\"Open In Colab\"/></a>"
      ]
    },
    {
      "cell_type": "code",
      "source": [
        "!pip install preliz"
      ],
      "metadata": {
        "id": "rL5xBEG8uI9g"
      },
      "execution_count": null,
      "outputs": []
    },
    {
      "cell_type": "markdown",
      "source": [
        "Importing libraries"
      ],
      "metadata": {
        "id": "piRUhtWXtFJ3"
      }
    },
    {
      "cell_type": "markdown",
      "source": [
        "Installing preliz"
      ],
      "metadata": {
        "id": "R-ipgPYPuS3a"
      }
    },
    {
      "cell_type": "code",
      "execution_count": 3,
      "metadata": {
        "id": "VH8PHvPTs47d"
      },
      "outputs": [],
      "source": [
        "import preliz as pz\n",
        "import numpy as np\n",
        "import arviz as az\n",
        "import pymc as pm\n",
        "import pandas as pd"
      ]
    },
    {
      "cell_type": "markdown",
      "source": [
        "Taylor Fritz is an American pro tennis player. I chose to look at his career stats for this project(accessed via tennisabstract.com) because I like tennis and he's American. Specifically, I was interested in how likely one of his matches is to go over 2 hours. I thought this would be an interesting statitistic to look at because tennis matches, though they have an average time, can go theoretically infinitely. The longest tennis match at Wimbledon lasted over 11 hours. Most matches aren't nearly that long, but I was interested in knowing how many matches for a pro tennis player lean on the longer side."
      ],
      "metadata": {
        "id": "yODYiO6yA8Y2"
      }
    },
    {
      "cell_type": "markdown",
      "source": [
        "To keep the results somewhat useful, I only counted matches that were best of 3 six game sets, excluding any that ended in a withdrawl. Here I have pandas read the csv with data on his career matches and print the table it makes. I chose to look at his whole career because I felt like having as much data as possible was the best way to go. Note: I was not able to include matches that didn't have info about match length."
      ],
      "metadata": {
        "id": "N4cVqk9Ct5ge"
      }
    },
    {
      "cell_type": "code",
      "source": [
        "fritz_url = 'https://raw.githubusercontent.com/EsmeBarker/Collab/refs/heads/main/Fritz%20-%20Sheet1.csv'\n",
        "fritz_data = pd.read_csv(fritz_url)\n",
        "fritz_data"
      ],
      "metadata": {
        "colab": {
          "base_uri": "https://localhost:8080/",
          "height": 424
        },
        "id": "WdvtuCaBt8qG",
        "outputId": "262476f1-b315-489d-b05d-fcb63ef10a9c"
      },
      "execution_count": 4,
      "outputs": [
        {
          "output_type": "execute_result",
          "data": {
            "text/plain": [
              "            Date            Tournament Surface   Rd    Rk    vRk  \\\n",
              "0    25‑Aug‑2014               US Open    Hard   Q1  1264  228.0   \n",
              "1    12‑Mar‑2015  Indian Wells Masters    Hard   Q2   941  125.0   \n",
              "2    12‑Mar‑2015  Indian Wells Masters    Hard   Q1   941  109.0   \n",
              "3     4‑Jan‑2016       Happy Valley CH    Hard    F   174  100.0   \n",
              "4     4‑Jan‑2016       Happy Valley CH    Hard   SF   174  592.0   \n",
              "..           ...                   ...     ...  ...   ...    ...   \n",
              "503  27‑Jul‑2025        Canada Masters    Hard  R32     4   36.0   \n",
              "504  27‑Jul‑2025        Canada Masters    Hard  R64     4   89.0   \n",
              "505   7‑Aug‑2025    Cincinnati Masters    Hard  R16     4  136.0   \n",
              "506   7‑Aug‑2025    Cincinnati Masters    Hard  R32     4   36.0   \n",
              "507   7‑Aug‑2025    Cincinnati Masters    Hard  R64     4  105.0   \n",
              "\n",
              "                                    Unnamed: 6        Score    DR      A%  \\\n",
              "0                 Jan Mertl [CZE] d. (WC)Fritz  1-6 6-3 6-3  0.86   5.50%   \n",
              "1      (15)Thiemo De Bakker [NED] d. (WC)Fritz      6-4 6-4  0.71  12.50%   \n",
              "2             (WC)Fritz d. (12)Dudi Sela [ISR]      6-3 6-0  1.59  10.20%   \n",
              "3               (8)Fritz d. (1)Dudi Sela [ISR]   7-6(7) 6-2  1.28  14.90%   \n",
              "4      (8)Fritz d. (Q)Andrew Whittington [AUS]      6-0 6-2  1.97  16.30%   \n",
              "..                                         ...          ...   ...     ...   \n",
              "503       (2)Fritz d. (27)Gabriel Diallo [CAN]      6-4 6-2  2.13  10.40%   \n",
              "504  (2)Fritz d. Roberto Carballes Baena [ESP]   7-5 7-6(1)  1.31  10.30%   \n",
              "505        (Q)Terence Atmane [FRA] d. (4)Fritz  3-6 7-5 6-3  0.90   7.60%   \n",
              "506       (4)Fritz d. (31)Lorenzo Sonego [ITA]   7-6(4) 7-5  1.65  19.70%   \n",
              "507           (4)Fritz d. (Q)Emilio Nava [USA]      6-4 6-4  1.54  22.60%   \n",
              "\n",
              "       DF%   1stIn    1st%    2nd% BPSvd  Time  \n",
              "0    2.20%  47.30%  72.10%  43.80%  6/10  1:40  \n",
              "1    1.80%  64.30%  66.70%  50.00%   1/4  1:02  \n",
              "2    0.00%  59.30%  82.90%  45.80%   7/7  0:58  \n",
              "3    4.50%  67.20%  77.80%  50.00%   3/4  1:18  \n",
              "4    7.00%  48.80%  81.00%  59.10%   0/0  0:53  \n",
              "..     ...     ...     ...     ...   ...   ...  \n",
              "503  0.00%  54.20%  88.50%  68.20%   1/1  1:15  \n",
              "504  3.80%  59.00%  82.60%  46.90%   4/6  2:31  \n",
              "505  2.20%  65.20%  76.70%  43.80%   3/6  1:59  \n",
              "506  3.00%  56.10%  86.50%  72.40%   0/0  2:07  \n",
              "507  0.00%  60.40%  81.30%  76.20%   2/2  1:08  \n",
              "\n",
              "[508 rows x 16 columns]"
            ],
            "text/html": [
              "\n",
              "  <div id=\"df-0b339149-4218-4a06-9e37-06a231dcafa6\" class=\"colab-df-container\">\n",
              "    <div>\n",
              "<style scoped>\n",
              "    .dataframe tbody tr th:only-of-type {\n",
              "        vertical-align: middle;\n",
              "    }\n",
              "\n",
              "    .dataframe tbody tr th {\n",
              "        vertical-align: top;\n",
              "    }\n",
              "\n",
              "    .dataframe thead th {\n",
              "        text-align: right;\n",
              "    }\n",
              "</style>\n",
              "<table border=\"1\" class=\"dataframe\">\n",
              "  <thead>\n",
              "    <tr style=\"text-align: right;\">\n",
              "      <th></th>\n",
              "      <th>Date</th>\n",
              "      <th>Tournament</th>\n",
              "      <th>Surface</th>\n",
              "      <th>Rd</th>\n",
              "      <th>Rk</th>\n",
              "      <th>vRk</th>\n",
              "      <th>Unnamed: 6</th>\n",
              "      <th>Score</th>\n",
              "      <th>DR</th>\n",
              "      <th>A%</th>\n",
              "      <th>DF%</th>\n",
              "      <th>1stIn</th>\n",
              "      <th>1st%</th>\n",
              "      <th>2nd%</th>\n",
              "      <th>BPSvd</th>\n",
              "      <th>Time</th>\n",
              "    </tr>\n",
              "  </thead>\n",
              "  <tbody>\n",
              "    <tr>\n",
              "      <th>0</th>\n",
              "      <td>25‑Aug‑2014</td>\n",
              "      <td>US Open</td>\n",
              "      <td>Hard</td>\n",
              "      <td>Q1</td>\n",
              "      <td>1264</td>\n",
              "      <td>228.0</td>\n",
              "      <td>Jan Mertl [CZE] d. (WC)Fritz</td>\n",
              "      <td>1-6 6-3 6-3</td>\n",
              "      <td>0.86</td>\n",
              "      <td>5.50%</td>\n",
              "      <td>2.20%</td>\n",
              "      <td>47.30%</td>\n",
              "      <td>72.10%</td>\n",
              "      <td>43.80%</td>\n",
              "      <td>6/10</td>\n",
              "      <td>1:40</td>\n",
              "    </tr>\n",
              "    <tr>\n",
              "      <th>1</th>\n",
              "      <td>12‑Mar‑2015</td>\n",
              "      <td>Indian Wells Masters</td>\n",
              "      <td>Hard</td>\n",
              "      <td>Q2</td>\n",
              "      <td>941</td>\n",
              "      <td>125.0</td>\n",
              "      <td>(15)Thiemo De Bakker [NED] d. (WC)Fritz</td>\n",
              "      <td>6-4 6-4</td>\n",
              "      <td>0.71</td>\n",
              "      <td>12.50%</td>\n",
              "      <td>1.80%</td>\n",
              "      <td>64.30%</td>\n",
              "      <td>66.70%</td>\n",
              "      <td>50.00%</td>\n",
              "      <td>1/4</td>\n",
              "      <td>1:02</td>\n",
              "    </tr>\n",
              "    <tr>\n",
              "      <th>2</th>\n",
              "      <td>12‑Mar‑2015</td>\n",
              "      <td>Indian Wells Masters</td>\n",
              "      <td>Hard</td>\n",
              "      <td>Q1</td>\n",
              "      <td>941</td>\n",
              "      <td>109.0</td>\n",
              "      <td>(WC)Fritz d. (12)Dudi Sela [ISR]</td>\n",
              "      <td>6-3 6-0</td>\n",
              "      <td>1.59</td>\n",
              "      <td>10.20%</td>\n",
              "      <td>0.00%</td>\n",
              "      <td>59.30%</td>\n",
              "      <td>82.90%</td>\n",
              "      <td>45.80%</td>\n",
              "      <td>7/7</td>\n",
              "      <td>0:58</td>\n",
              "    </tr>\n",
              "    <tr>\n",
              "      <th>3</th>\n",
              "      <td>4‑Jan‑2016</td>\n",
              "      <td>Happy Valley CH</td>\n",
              "      <td>Hard</td>\n",
              "      <td>F</td>\n",
              "      <td>174</td>\n",
              "      <td>100.0</td>\n",
              "      <td>(8)Fritz d. (1)Dudi Sela [ISR]</td>\n",
              "      <td>7-6(7) 6-2</td>\n",
              "      <td>1.28</td>\n",
              "      <td>14.90%</td>\n",
              "      <td>4.50%</td>\n",
              "      <td>67.20%</td>\n",
              "      <td>77.80%</td>\n",
              "      <td>50.00%</td>\n",
              "      <td>3/4</td>\n",
              "      <td>1:18</td>\n",
              "    </tr>\n",
              "    <tr>\n",
              "      <th>4</th>\n",
              "      <td>4‑Jan‑2016</td>\n",
              "      <td>Happy Valley CH</td>\n",
              "      <td>Hard</td>\n",
              "      <td>SF</td>\n",
              "      <td>174</td>\n",
              "      <td>592.0</td>\n",
              "      <td>(8)Fritz d. (Q)Andrew Whittington [AUS]</td>\n",
              "      <td>6-0 6-2</td>\n",
              "      <td>1.97</td>\n",
              "      <td>16.30%</td>\n",
              "      <td>7.00%</td>\n",
              "      <td>48.80%</td>\n",
              "      <td>81.00%</td>\n",
              "      <td>59.10%</td>\n",
              "      <td>0/0</td>\n",
              "      <td>0:53</td>\n",
              "    </tr>\n",
              "    <tr>\n",
              "      <th>...</th>\n",
              "      <td>...</td>\n",
              "      <td>...</td>\n",
              "      <td>...</td>\n",
              "      <td>...</td>\n",
              "      <td>...</td>\n",
              "      <td>...</td>\n",
              "      <td>...</td>\n",
              "      <td>...</td>\n",
              "      <td>...</td>\n",
              "      <td>...</td>\n",
              "      <td>...</td>\n",
              "      <td>...</td>\n",
              "      <td>...</td>\n",
              "      <td>...</td>\n",
              "      <td>...</td>\n",
              "      <td>...</td>\n",
              "    </tr>\n",
              "    <tr>\n",
              "      <th>503</th>\n",
              "      <td>27‑Jul‑2025</td>\n",
              "      <td>Canada Masters</td>\n",
              "      <td>Hard</td>\n",
              "      <td>R32</td>\n",
              "      <td>4</td>\n",
              "      <td>36.0</td>\n",
              "      <td>(2)Fritz d. (27)Gabriel Diallo [CAN]</td>\n",
              "      <td>6-4 6-2</td>\n",
              "      <td>2.13</td>\n",
              "      <td>10.40%</td>\n",
              "      <td>0.00%</td>\n",
              "      <td>54.20%</td>\n",
              "      <td>88.50%</td>\n",
              "      <td>68.20%</td>\n",
              "      <td>1/1</td>\n",
              "      <td>1:15</td>\n",
              "    </tr>\n",
              "    <tr>\n",
              "      <th>504</th>\n",
              "      <td>27‑Jul‑2025</td>\n",
              "      <td>Canada Masters</td>\n",
              "      <td>Hard</td>\n",
              "      <td>R64</td>\n",
              "      <td>4</td>\n",
              "      <td>89.0</td>\n",
              "      <td>(2)Fritz d. Roberto Carballes Baena [ESP]</td>\n",
              "      <td>7-5 7-6(1)</td>\n",
              "      <td>1.31</td>\n",
              "      <td>10.30%</td>\n",
              "      <td>3.80%</td>\n",
              "      <td>59.00%</td>\n",
              "      <td>82.60%</td>\n",
              "      <td>46.90%</td>\n",
              "      <td>4/6</td>\n",
              "      <td>2:31</td>\n",
              "    </tr>\n",
              "    <tr>\n",
              "      <th>505</th>\n",
              "      <td>7‑Aug‑2025</td>\n",
              "      <td>Cincinnati Masters</td>\n",
              "      <td>Hard</td>\n",
              "      <td>R16</td>\n",
              "      <td>4</td>\n",
              "      <td>136.0</td>\n",
              "      <td>(Q)Terence Atmane [FRA] d. (4)Fritz</td>\n",
              "      <td>3-6 7-5 6-3</td>\n",
              "      <td>0.90</td>\n",
              "      <td>7.60%</td>\n",
              "      <td>2.20%</td>\n",
              "      <td>65.20%</td>\n",
              "      <td>76.70%</td>\n",
              "      <td>43.80%</td>\n",
              "      <td>3/6</td>\n",
              "      <td>1:59</td>\n",
              "    </tr>\n",
              "    <tr>\n",
              "      <th>506</th>\n",
              "      <td>7‑Aug‑2025</td>\n",
              "      <td>Cincinnati Masters</td>\n",
              "      <td>Hard</td>\n",
              "      <td>R32</td>\n",
              "      <td>4</td>\n",
              "      <td>36.0</td>\n",
              "      <td>(4)Fritz d. (31)Lorenzo Sonego [ITA]</td>\n",
              "      <td>7-6(4) 7-5</td>\n",
              "      <td>1.65</td>\n",
              "      <td>19.70%</td>\n",
              "      <td>3.00%</td>\n",
              "      <td>56.10%</td>\n",
              "      <td>86.50%</td>\n",
              "      <td>72.40%</td>\n",
              "      <td>0/0</td>\n",
              "      <td>2:07</td>\n",
              "    </tr>\n",
              "    <tr>\n",
              "      <th>507</th>\n",
              "      <td>7‑Aug‑2025</td>\n",
              "      <td>Cincinnati Masters</td>\n",
              "      <td>Hard</td>\n",
              "      <td>R64</td>\n",
              "      <td>4</td>\n",
              "      <td>105.0</td>\n",
              "      <td>(4)Fritz d. (Q)Emilio Nava [USA]</td>\n",
              "      <td>6-4 6-4</td>\n",
              "      <td>1.54</td>\n",
              "      <td>22.60%</td>\n",
              "      <td>0.00%</td>\n",
              "      <td>60.40%</td>\n",
              "      <td>81.30%</td>\n",
              "      <td>76.20%</td>\n",
              "      <td>2/2</td>\n",
              "      <td>1:08</td>\n",
              "    </tr>\n",
              "  </tbody>\n",
              "</table>\n",
              "<p>508 rows × 16 columns</p>\n",
              "</div>\n",
              "    <div class=\"colab-df-buttons\">\n",
              "\n",
              "  <div class=\"colab-df-container\">\n",
              "    <button class=\"colab-df-convert\" onclick=\"convertToInteractive('df-0b339149-4218-4a06-9e37-06a231dcafa6')\"\n",
              "            title=\"Convert this dataframe to an interactive table.\"\n",
              "            style=\"display:none;\">\n",
              "\n",
              "  <svg xmlns=\"http://www.w3.org/2000/svg\" height=\"24px\" viewBox=\"0 -960 960 960\">\n",
              "    <path d=\"M120-120v-720h720v720H120Zm60-500h600v-160H180v160Zm220 220h160v-160H400v160Zm0 220h160v-160H400v160ZM180-400h160v-160H180v160Zm440 0h160v-160H620v160ZM180-180h160v-160H180v160Zm440 0h160v-160H620v160Z\"/>\n",
              "  </svg>\n",
              "    </button>\n",
              "\n",
              "  <style>\n",
              "    .colab-df-container {\n",
              "      display:flex;\n",
              "      gap: 12px;\n",
              "    }\n",
              "\n",
              "    .colab-df-convert {\n",
              "      background-color: #E8F0FE;\n",
              "      border: none;\n",
              "      border-radius: 50%;\n",
              "      cursor: pointer;\n",
              "      display: none;\n",
              "      fill: #1967D2;\n",
              "      height: 32px;\n",
              "      padding: 0 0 0 0;\n",
              "      width: 32px;\n",
              "    }\n",
              "\n",
              "    .colab-df-convert:hover {\n",
              "      background-color: #E2EBFA;\n",
              "      box-shadow: 0px 1px 2px rgba(60, 64, 67, 0.3), 0px 1px 3px 1px rgba(60, 64, 67, 0.15);\n",
              "      fill: #174EA6;\n",
              "    }\n",
              "\n",
              "    .colab-df-buttons div {\n",
              "      margin-bottom: 4px;\n",
              "    }\n",
              "\n",
              "    [theme=dark] .colab-df-convert {\n",
              "      background-color: #3B4455;\n",
              "      fill: #D2E3FC;\n",
              "    }\n",
              "\n",
              "    [theme=dark] .colab-df-convert:hover {\n",
              "      background-color: #434B5C;\n",
              "      box-shadow: 0px 1px 3px 1px rgba(0, 0, 0, 0.15);\n",
              "      filter: drop-shadow(0px 1px 2px rgba(0, 0, 0, 0.3));\n",
              "      fill: #FFFFFF;\n",
              "    }\n",
              "  </style>\n",
              "\n",
              "    <script>\n",
              "      const buttonEl =\n",
              "        document.querySelector('#df-0b339149-4218-4a06-9e37-06a231dcafa6 button.colab-df-convert');\n",
              "      buttonEl.style.display =\n",
              "        google.colab.kernel.accessAllowed ? 'block' : 'none';\n",
              "\n",
              "      async function convertToInteractive(key) {\n",
              "        const element = document.querySelector('#df-0b339149-4218-4a06-9e37-06a231dcafa6');\n",
              "        const dataTable =\n",
              "          await google.colab.kernel.invokeFunction('convertToInteractive',\n",
              "                                                    [key], {});\n",
              "        if (!dataTable) return;\n",
              "\n",
              "        const docLinkHtml = 'Like what you see? Visit the ' +\n",
              "          '<a target=\"_blank\" href=https://colab.research.google.com/notebooks/data_table.ipynb>data table notebook</a>'\n",
              "          + ' to learn more about interactive tables.';\n",
              "        element.innerHTML = '';\n",
              "        dataTable['output_type'] = 'display_data';\n",
              "        await google.colab.output.renderOutput(dataTable, element);\n",
              "        const docLink = document.createElement('div');\n",
              "        docLink.innerHTML = docLinkHtml;\n",
              "        element.appendChild(docLink);\n",
              "      }\n",
              "    </script>\n",
              "  </div>\n",
              "\n",
              "\n",
              "    <div id=\"df-ee26ba8e-f2d2-49c7-878f-d1065579e2a4\">\n",
              "      <button class=\"colab-df-quickchart\" onclick=\"quickchart('df-ee26ba8e-f2d2-49c7-878f-d1065579e2a4')\"\n",
              "                title=\"Suggest charts\"\n",
              "                style=\"display:none;\">\n",
              "\n",
              "<svg xmlns=\"http://www.w3.org/2000/svg\" height=\"24px\"viewBox=\"0 0 24 24\"\n",
              "     width=\"24px\">\n",
              "    <g>\n",
              "        <path d=\"M19 3H5c-1.1 0-2 .9-2 2v14c0 1.1.9 2 2 2h14c1.1 0 2-.9 2-2V5c0-1.1-.9-2-2-2zM9 17H7v-7h2v7zm4 0h-2V7h2v10zm4 0h-2v-4h2v4z\"/>\n",
              "    </g>\n",
              "</svg>\n",
              "      </button>\n",
              "\n",
              "<style>\n",
              "  .colab-df-quickchart {\n",
              "      --bg-color: #E8F0FE;\n",
              "      --fill-color: #1967D2;\n",
              "      --hover-bg-color: #E2EBFA;\n",
              "      --hover-fill-color: #174EA6;\n",
              "      --disabled-fill-color: #AAA;\n",
              "      --disabled-bg-color: #DDD;\n",
              "  }\n",
              "\n",
              "  [theme=dark] .colab-df-quickchart {\n",
              "      --bg-color: #3B4455;\n",
              "      --fill-color: #D2E3FC;\n",
              "      --hover-bg-color: #434B5C;\n",
              "      --hover-fill-color: #FFFFFF;\n",
              "      --disabled-bg-color: #3B4455;\n",
              "      --disabled-fill-color: #666;\n",
              "  }\n",
              "\n",
              "  .colab-df-quickchart {\n",
              "    background-color: var(--bg-color);\n",
              "    border: none;\n",
              "    border-radius: 50%;\n",
              "    cursor: pointer;\n",
              "    display: none;\n",
              "    fill: var(--fill-color);\n",
              "    height: 32px;\n",
              "    padding: 0;\n",
              "    width: 32px;\n",
              "  }\n",
              "\n",
              "  .colab-df-quickchart:hover {\n",
              "    background-color: var(--hover-bg-color);\n",
              "    box-shadow: 0 1px 2px rgba(60, 64, 67, 0.3), 0 1px 3px 1px rgba(60, 64, 67, 0.15);\n",
              "    fill: var(--button-hover-fill-color);\n",
              "  }\n",
              "\n",
              "  .colab-df-quickchart-complete:disabled,\n",
              "  .colab-df-quickchart-complete:disabled:hover {\n",
              "    background-color: var(--disabled-bg-color);\n",
              "    fill: var(--disabled-fill-color);\n",
              "    box-shadow: none;\n",
              "  }\n",
              "\n",
              "  .colab-df-spinner {\n",
              "    border: 2px solid var(--fill-color);\n",
              "    border-color: transparent;\n",
              "    border-bottom-color: var(--fill-color);\n",
              "    animation:\n",
              "      spin 1s steps(1) infinite;\n",
              "  }\n",
              "\n",
              "  @keyframes spin {\n",
              "    0% {\n",
              "      border-color: transparent;\n",
              "      border-bottom-color: var(--fill-color);\n",
              "      border-left-color: var(--fill-color);\n",
              "    }\n",
              "    20% {\n",
              "      border-color: transparent;\n",
              "      border-left-color: var(--fill-color);\n",
              "      border-top-color: var(--fill-color);\n",
              "    }\n",
              "    30% {\n",
              "      border-color: transparent;\n",
              "      border-left-color: var(--fill-color);\n",
              "      border-top-color: var(--fill-color);\n",
              "      border-right-color: var(--fill-color);\n",
              "    }\n",
              "    40% {\n",
              "      border-color: transparent;\n",
              "      border-right-color: var(--fill-color);\n",
              "      border-top-color: var(--fill-color);\n",
              "    }\n",
              "    60% {\n",
              "      border-color: transparent;\n",
              "      border-right-color: var(--fill-color);\n",
              "    }\n",
              "    80% {\n",
              "      border-color: transparent;\n",
              "      border-right-color: var(--fill-color);\n",
              "      border-bottom-color: var(--fill-color);\n",
              "    }\n",
              "    90% {\n",
              "      border-color: transparent;\n",
              "      border-bottom-color: var(--fill-color);\n",
              "    }\n",
              "  }\n",
              "</style>\n",
              "\n",
              "      <script>\n",
              "        async function quickchart(key) {\n",
              "          const quickchartButtonEl =\n",
              "            document.querySelector('#' + key + ' button');\n",
              "          quickchartButtonEl.disabled = true;  // To prevent multiple clicks.\n",
              "          quickchartButtonEl.classList.add('colab-df-spinner');\n",
              "          try {\n",
              "            const charts = await google.colab.kernel.invokeFunction(\n",
              "                'suggestCharts', [key], {});\n",
              "          } catch (error) {\n",
              "            console.error('Error during call to suggestCharts:', error);\n",
              "          }\n",
              "          quickchartButtonEl.classList.remove('colab-df-spinner');\n",
              "          quickchartButtonEl.classList.add('colab-df-quickchart-complete');\n",
              "        }\n",
              "        (() => {\n",
              "          let quickchartButtonEl =\n",
              "            document.querySelector('#df-ee26ba8e-f2d2-49c7-878f-d1065579e2a4 button');\n",
              "          quickchartButtonEl.style.display =\n",
              "            google.colab.kernel.accessAllowed ? 'block' : 'none';\n",
              "        })();\n",
              "      </script>\n",
              "    </div>\n",
              "\n",
              "  <div id=\"id_b474eee8-ab56-4b90-84d2-0e3c1446d4e8\">\n",
              "    <style>\n",
              "      .colab-df-generate {\n",
              "        background-color: #E8F0FE;\n",
              "        border: none;\n",
              "        border-radius: 50%;\n",
              "        cursor: pointer;\n",
              "        display: none;\n",
              "        fill: #1967D2;\n",
              "        height: 32px;\n",
              "        padding: 0 0 0 0;\n",
              "        width: 32px;\n",
              "      }\n",
              "\n",
              "      .colab-df-generate:hover {\n",
              "        background-color: #E2EBFA;\n",
              "        box-shadow: 0px 1px 2px rgba(60, 64, 67, 0.3), 0px 1px 3px 1px rgba(60, 64, 67, 0.15);\n",
              "        fill: #174EA6;\n",
              "      }\n",
              "\n",
              "      [theme=dark] .colab-df-generate {\n",
              "        background-color: #3B4455;\n",
              "        fill: #D2E3FC;\n",
              "      }\n",
              "\n",
              "      [theme=dark] .colab-df-generate:hover {\n",
              "        background-color: #434B5C;\n",
              "        box-shadow: 0px 1px 3px 1px rgba(0, 0, 0, 0.15);\n",
              "        filter: drop-shadow(0px 1px 2px rgba(0, 0, 0, 0.3));\n",
              "        fill: #FFFFFF;\n",
              "      }\n",
              "    </style>\n",
              "    <button class=\"colab-df-generate\" onclick=\"generateWithVariable('fritz_data')\"\n",
              "            title=\"Generate code using this dataframe.\"\n",
              "            style=\"display:none;\">\n",
              "\n",
              "  <svg xmlns=\"http://www.w3.org/2000/svg\" height=\"24px\"viewBox=\"0 0 24 24\"\n",
              "       width=\"24px\">\n",
              "    <path d=\"M7,19H8.4L18.45,9,17,7.55,7,17.6ZM5,21V16.75L18.45,3.32a2,2,0,0,1,2.83,0l1.4,1.43a1.91,1.91,0,0,1,.58,1.4,1.91,1.91,0,0,1-.58,1.4L9.25,21ZM18.45,9,17,7.55Zm-12,3A5.31,5.31,0,0,0,4.9,8.1,5.31,5.31,0,0,0,1,6.5,5.31,5.31,0,0,0,4.9,4.9,5.31,5.31,0,0,0,6.5,1,5.31,5.31,0,0,0,8.1,4.9,5.31,5.31,0,0,0,12,6.5,5.46,5.46,0,0,0,6.5,12Z\"/>\n",
              "  </svg>\n",
              "    </button>\n",
              "    <script>\n",
              "      (() => {\n",
              "      const buttonEl =\n",
              "        document.querySelector('#id_b474eee8-ab56-4b90-84d2-0e3c1446d4e8 button.colab-df-generate');\n",
              "      buttonEl.style.display =\n",
              "        google.colab.kernel.accessAllowed ? 'block' : 'none';\n",
              "\n",
              "      buttonEl.onclick = () => {\n",
              "        google.colab.notebook.generateWithVariable('fritz_data');\n",
              "      }\n",
              "      })();\n",
              "    </script>\n",
              "  </div>\n",
              "\n",
              "    </div>\n",
              "  </div>\n"
            ],
            "application/vnd.google.colaboratory.intrinsic+json": {
              "type": "dataframe",
              "variable_name": "fritz_data",
              "summary": "{\n  \"name\": \"fritz_data\",\n  \"rows\": 508,\n  \"fields\": [\n    {\n      \"column\": \"Date\",\n      \"properties\": {\n        \"dtype\": \"category\",\n        \"num_unique_values\": 208,\n        \"samples\": [\n          \"22\\u2011May\\u20112023\",\n          \"20\\u2011Jun\\u20112016\",\n          \"22\\u2011Oct\\u20112018\"\n        ],\n        \"semantic_type\": \"\",\n        \"description\": \"\"\n      }\n    },\n    {\n      \"column\": \"Tournament\",\n      \"properties\": {\n        \"dtype\": \"category\",\n        \"num_unique_values\": 79,\n        \"samples\": [\n          \"Winnetka CH\",\n          \"US Open\",\n          \"Antwerp\"\n        ],\n        \"semantic_type\": \"\",\n        \"description\": \"\"\n      }\n    },\n    {\n      \"column\": \"Surface\",\n      \"properties\": {\n        \"dtype\": \"category\",\n        \"num_unique_values\": 3,\n        \"samples\": [\n          \"Hard\",\n          \"Clay\",\n          \"Grass\"\n        ],\n        \"semantic_type\": \"\",\n        \"description\": \"\"\n      }\n    },\n    {\n      \"column\": \"Rd\",\n      \"properties\": {\n        \"dtype\": \"category\",\n        \"num_unique_values\": 11,\n        \"samples\": [\n          \"R16\",\n          \"Q1\",\n          \"Q3\"\n        ],\n        \"semantic_type\": \"\",\n        \"description\": \"\"\n      }\n    },\n    {\n      \"column\": \"Rk\",\n      \"properties\": {\n        \"dtype\": \"number\",\n        \"std\": 87,\n        \"min\": 4,\n        \"max\": 1264,\n        \"num_unique_values\": 89,\n        \"samples\": [\n          85,\n          50,\n          120\n        ],\n        \"semantic_type\": \"\",\n        \"description\": \"\"\n      }\n    },\n    {\n      \"column\": \"vRk\",\n      \"properties\": {\n        \"dtype\": \"number\",\n        \"std\": 124.33909670601757,\n        \"min\": 1.0,\n        \"max\": 845.0,\n        \"num_unique_values\": 210,\n        \"samples\": [\n          132.0,\n          92.0,\n          167.0\n        ],\n        \"semantic_type\": \"\",\n        \"description\": \"\"\n      }\n    },\n    {\n      \"column\": \"Unnamed: 6\",\n      \"properties\": {\n        \"dtype\": \"string\",\n        \"num_unique_values\": 487,\n        \"samples\": [\n          \"Malek Jaziri [TUN] d. (WC)Fritz\",\n          \"(WC)Stefano Travaglia [ITA] d. Fritz\",\n          \"Fritz d. Alexander Zverev [GER]\"\n        ],\n        \"semantic_type\": \"\",\n        \"description\": \"\"\n      }\n    },\n    {\n      \"column\": \"Score\",\n      \"properties\": {\n        \"dtype\": \"category\",\n        \"num_unique_values\": 247,\n        \"samples\": [\n          \"3-6 7-6(6) 6-1\",\n          \"6-3 6-7(0) 7-6(5)\",\n          \"7-6(1) 6-3\"\n        ],\n        \"semantic_type\": \"\",\n        \"description\": \"\"\n      }\n    },\n    {\n      \"column\": \"DR\",\n      \"properties\": {\n        \"dtype\": \"number\",\n        \"std\": 0.5351625048950505,\n        \"min\": 0.38,\n        \"max\": 4.2,\n        \"num_unique_values\": 177,\n        \"samples\": [\n          0.85,\n          1.22,\n          2.47\n        ],\n        \"semantic_type\": \"\",\n        \"description\": \"\"\n      }\n    },\n    {\n      \"column\": \"A%\",\n      \"properties\": {\n        \"dtype\": \"category\",\n        \"num_unique_values\": 195,\n        \"samples\": [\n          \"21.30%\",\n          \"10.70%\",\n          \"6.40%\"\n        ],\n        \"semantic_type\": \"\",\n        \"description\": \"\"\n      }\n    },\n    {\n      \"column\": \"DF%\",\n      \"properties\": {\n        \"dtype\": \"category\",\n        \"num_unique_values\": 80,\n        \"samples\": [\n          \"2.70%\",\n          \"2.20%\",\n          \"1.10%\"\n        ],\n        \"semantic_type\": \"\",\n        \"description\": \"\"\n      }\n    },\n    {\n      \"column\": \"1stIn\",\n      \"properties\": {\n        \"dtype\": \"category\",\n        \"num_unique_values\": 209,\n        \"samples\": [\n          \"61.20%\",\n          \"55.50%\",\n          \"69.90%\"\n        ],\n        \"semantic_type\": \"\",\n        \"description\": \"\"\n      }\n    },\n    {\n      \"column\": \"1st%\",\n      \"properties\": {\n        \"dtype\": \"category\",\n        \"num_unique_values\": 211,\n        \"samples\": [\n          \"61.60%\",\n          \"86.50%\",\n          \"83.10%\"\n        ],\n        \"semantic_type\": \"\",\n        \"description\": \"\"\n      }\n    },\n    {\n      \"column\": \"2nd%\",\n      \"properties\": {\n        \"dtype\": \"category\",\n        \"num_unique_values\": 213,\n        \"samples\": [\n          \"34.10%\",\n          \"61.90%\",\n          \"28.60%\"\n        ],\n        \"semantic_type\": \"\",\n        \"description\": \"\"\n      }\n    },\n    {\n      \"column\": \"BPSvd\",\n      \"properties\": {\n        \"dtype\": \"category\",\n        \"num_unique_values\": 74,\n        \"samples\": [\n          \"0/0\",\n          \"10/18\",\n          \"7/11\"\n        ],\n        \"semantic_type\": \"\",\n        \"description\": \"\"\n      }\n    },\n    {\n      \"column\": \"Time\",\n      \"properties\": {\n        \"dtype\": \"object\",\n        \"num_unique_values\": 118,\n        \"samples\": [\n          \"1:29\",\n          \"2:18\",\n          \"0:53\"\n        ],\n        \"semantic_type\": \"\",\n        \"description\": \"\"\n      }\n    }\n  ]\n}"
            }
          },
          "metadata": {},
          "execution_count": 4
        }
      ]
    },
    {
      "cell_type": "markdown",
      "source": [
        "The average length of one of these matches is around 90 minutes. For my prior, I'll assume about 30% of matches go 2 hours or longer, because based on my amatuer tennis playing this is what I would imagine for mens pro tennis. Below is the distribution generated by my prior."
      ],
      "metadata": {
        "id": "4BjdcioO8PPP"
      }
    },
    {
      "cell_type": "code",
      "source": [
        "pz.Beta(alpha=3,beta=7).plot_pdf()"
      ],
      "metadata": {
        "colab": {
          "base_uri": "https://localhost:8080/",
          "height": 447
        },
        "id": "cxVrcLXW8Pbt",
        "outputId": "ec222c2e-2b95-4d96-d879-e59824cdeaa2"
      },
      "execution_count": null,
      "outputs": [
        {
          "output_type": "execute_result",
          "data": {
            "text/plain": [
              "<Axes: >"
            ]
          },
          "metadata": {},
          "execution_count": 7
        },
        {
          "output_type": "display_data",
          "data": {
            "text/plain": [
              "<Figure size 640x480 with 1 Axes>"
            ],
            "image/png": "[encoded data removed]"
          },
          "metadata": {}
        }
      ]
    },
    {
      "cell_type": "markdown",
      "source": [
        "Now, I'm going to figure out how many matches went over 2 hours in my actual data. All I actually care about is the 'Time' column, so I spliced that."
      ],
      "metadata": {
        "id": "YWnW6VzK7bAW"
      }
    },
    {
      "cell_type": "code",
      "source": [
        "fritz_time=fritz_data['Time']\n",
        "fritz_time"
      ],
      "metadata": {
        "id": "E2BvlRRj7bqW",
        "colab": {
          "base_uri": "https://localhost:8080/",
          "height": 458
        },
        "outputId": "8368cac8-7910-4004-fbd2-9ae77401586e"
      },
      "execution_count": null,
      "outputs": [
        {
          "output_type": "execute_result",
          "data": {
            "text/plain": [
              "0      1:40\n",
              "1      1:02\n",
              "2      0:58\n",
              "3      1:18\n",
              "4      0:53\n",
              "       ... \n",
              "503    1:15\n",
              "504    2:31\n",
              "505    1:59\n",
              "506    2:07\n",
              "507    1:08\n",
              "Name: Time, Length: 508, dtype: object"
            ],
            "text/html": [
              "<div>\n",
              "<style scoped>\n",
              "    .dataframe tbody tr th:only-of-type {\n",
              "        vertical-align: middle;\n",
              "    }\n",
              "\n",
              "    .dataframe tbody tr th {\n",
              "        vertical-align: top;\n",
              "    }\n",
              "\n",
              "    .dataframe thead th {\n",
              "        text-align: right;\n",
              "    }\n",
              "</style>\n",
              "<table border=\"1\" class=\"dataframe\">\n",
              "  <thead>\n",
              "    <tr style=\"text-align: right;\">\n",
              "      <th></th>\n",
              "      <th>Time</th>\n",
              "    </tr>\n",
              "  </thead>\n",
              "  <tbody>\n",
              "    <tr>\n",
              "      <th>0</th>\n",
              "      <td>1:40</td>\n",
              "    </tr>\n",
              "    <tr>\n",
              "      <th>1</th>\n",
              "      <td>1:02</td>\n",
              "    </tr>\n",
              "    <tr>\n",
              "      <th>2</th>\n",
              "      <td>0:58</td>\n",
              "    </tr>\n",
              "    <tr>\n",
              "      <th>3</th>\n",
              "      <td>1:18</td>\n",
              "    </tr>\n",
              "    <tr>\n",
              "      <th>4</th>\n",
              "      <td>0:53</td>\n",
              "    </tr>\n",
              "    <tr>\n",
              "      <th>...</th>\n",
              "      <td>...</td>\n",
              "    </tr>\n",
              "    <tr>\n",
              "      <th>503</th>\n",
              "      <td>1:15</td>\n",
              "    </tr>\n",
              "    <tr>\n",
              "      <th>504</th>\n",
              "      <td>2:31</td>\n",
              "    </tr>\n",
              "    <tr>\n",
              "      <th>505</th>\n",
              "      <td>1:59</td>\n",
              "    </tr>\n",
              "    <tr>\n",
              "      <th>506</th>\n",
              "      <td>2:07</td>\n",
              "    </tr>\n",
              "    <tr>\n",
              "      <th>507</th>\n",
              "      <td>1:08</td>\n",
              "    </tr>\n",
              "  </tbody>\n",
              "</table>\n",
              "<p>508 rows × 1 columns</p>\n",
              "</div><br><label><b>dtype:</b> object</label>"
            ]
          },
          "metadata": {},
          "execution_count": 8
        }
      ]
    },
    {
      "cell_type": "markdown",
      "source": [
        "Next, I need to convert this into durations that pandas can read so that I can find durations above 2 hours with a query. This part was done with the help of google AI overview and the built in gemeni editing tool on colab."
      ],
      "metadata": {
        "id": "CwKVSAsm7zf3"
      }
    },
    {
      "cell_type": "code",
      "source": [
        "fritz_minutes = pd.to_timedelta(fritz_time + ':00')\n",
        "fritz_minutes\n"
      ],
      "metadata": {
        "id": "WzUFkP-V7zTe",
        "colab": {
          "base_uri": "https://localhost:8080/",
          "height": 458
        },
        "outputId": "999171c8-7b8e-4d31-d5fd-50c97c592559"
      },
      "execution_count": null,
      "outputs": [
        {
          "output_type": "execute_result",
          "data": {
            "text/plain": [
              "0     0 days 01:40:00\n",
              "1     0 days 01:02:00\n",
              "2     0 days 00:58:00\n",
              "3     0 days 01:18:00\n",
              "4     0 days 00:53:00\n",
              "            ...      \n",
              "503   0 days 01:15:00\n",
              "504   0 days 02:31:00\n",
              "505   0 days 01:59:00\n",
              "506   0 days 02:07:00\n",
              "507   0 days 01:08:00\n",
              "Name: Time, Length: 508, dtype: timedelta64[ns]"
            ],
            "text/html": [
              "<div>\n",
              "<style scoped>\n",
              "    .dataframe tbody tr th:only-of-type {\n",
              "        vertical-align: middle;\n",
              "    }\n",
              "\n",
              "    .dataframe tbody tr th {\n",
              "        vertical-align: top;\n",
              "    }\n",
              "\n",
              "    .dataframe thead th {\n",
              "        text-align: right;\n",
              "    }\n",
              "</style>\n",
              "<table border=\"1\" class=\"dataframe\">\n",
              "  <thead>\n",
              "    <tr style=\"text-align: right;\">\n",
              "      <th></th>\n",
              "      <th>Time</th>\n",
              "    </tr>\n",
              "  </thead>\n",
              "  <tbody>\n",
              "    <tr>\n",
              "      <th>0</th>\n",
              "      <td>0 days 01:40:00</td>\n",
              "    </tr>\n",
              "    <tr>\n",
              "      <th>1</th>\n",
              "      <td>0 days 01:02:00</td>\n",
              "    </tr>\n",
              "    <tr>\n",
              "      <th>2</th>\n",
              "      <td>0 days 00:58:00</td>\n",
              "    </tr>\n",
              "    <tr>\n",
              "      <th>3</th>\n",
              "      <td>0 days 01:18:00</td>\n",
              "    </tr>\n",
              "    <tr>\n",
              "      <th>4</th>\n",
              "      <td>0 days 00:53:00</td>\n",
              "    </tr>\n",
              "    <tr>\n",
              "      <th>...</th>\n",
              "      <td>...</td>\n",
              "    </tr>\n",
              "    <tr>\n",
              "      <th>503</th>\n",
              "      <td>0 days 01:15:00</td>\n",
              "    </tr>\n",
              "    <tr>\n",
              "      <th>504</th>\n",
              "      <td>0 days 02:31:00</td>\n",
              "    </tr>\n",
              "    <tr>\n",
              "      <th>505</th>\n",
              "      <td>0 days 01:59:00</td>\n",
              "    </tr>\n",
              "    <tr>\n",
              "      <th>506</th>\n",
              "      <td>0 days 02:07:00</td>\n",
              "    </tr>\n",
              "    <tr>\n",
              "      <th>507</th>\n",
              "      <td>0 days 01:08:00</td>\n",
              "    </tr>\n",
              "  </tbody>\n",
              "</table>\n",
              "<p>508 rows × 1 columns</p>\n",
              "</div><br><label><b>dtype:</b> timedelta64[ns]</label>"
            ]
          },
          "metadata": {},
          "execution_count": 12
        }
      ]
    },
    {
      "cell_type": "markdown",
      "source": [
        "Now I can use a pandas query to find matches equal to or greater than 2 hours in length. This was also done the help of AI Overview."
      ],
      "metadata": {
        "id": "JSQJUFUqBP80"
      }
    },
    {
      "cell_type": "code",
      "source": [
        "long_matches=fritz_minutes[fritz_minutes>=pd.Timedelta(hours=2)]\n",
        "long_matches"
      ],
      "metadata": {
        "colab": {
          "base_uri": "https://localhost:8080/",
          "height": 458
        },
        "id": "QC4mYEaqBPpn",
        "outputId": "fd653a2f-80a4-4ce6-a261-98433bdc8ca0"
      },
      "execution_count": null,
      "outputs": [
        {
          "output_type": "execute_result",
          "data": {
            "text/plain": [
              "6     0 days 02:22:00\n",
              "12    0 days 02:20:00\n",
              "26    0 days 02:05:00\n",
              "27    0 days 02:10:00\n",
              "28    0 days 02:09:00\n",
              "            ...      \n",
              "496   0 days 02:02:00\n",
              "497   0 days 03:04:00\n",
              "502   0 days 02:56:00\n",
              "504   0 days 02:31:00\n",
              "506   0 days 02:07:00\n",
              "Name: Time, Length: 116, dtype: timedelta64[ns]"
            ],
            "text/html": [
              "<div>\n",
              "<style scoped>\n",
              "    .dataframe tbody tr th:only-of-type {\n",
              "        vertical-align: middle;\n",
              "    }\n",
              "\n",
              "    .dataframe tbody tr th {\n",
              "        vertical-align: top;\n",
              "    }\n",
              "\n",
              "    .dataframe thead th {\n",
              "        text-align: right;\n",
              "    }\n",
              "</style>\n",
              "<table border=\"1\" class=\"dataframe\">\n",
              "  <thead>\n",
              "    <tr style=\"text-align: right;\">\n",
              "      <th></th>\n",
              "      <th>Time</th>\n",
              "    </tr>\n",
              "  </thead>\n",
              "  <tbody>\n",
              "    <tr>\n",
              "      <th>6</th>\n",
              "      <td>0 days 02:22:00</td>\n",
              "    </tr>\n",
              "    <tr>\n",
              "      <th>12</th>\n",
              "      <td>0 days 02:20:00</td>\n",
              "    </tr>\n",
              "    <tr>\n",
              "      <th>26</th>\n",
              "      <td>0 days 02:05:00</td>\n",
              "    </tr>\n",
              "    <tr>\n",
              "      <th>27</th>\n",
              "      <td>0 days 02:10:00</td>\n",
              "    </tr>\n",
              "    <tr>\n",
              "      <th>28</th>\n",
              "      <td>0 days 02:09:00</td>\n",
              "    </tr>\n",
              "    <tr>\n",
              "      <th>...</th>\n",
              "      <td>...</td>\n",
              "    </tr>\n",
              "    <tr>\n",
              "      <th>496</th>\n",
              "      <td>0 days 02:02:00</td>\n",
              "    </tr>\n",
              "    <tr>\n",
              "      <th>497</th>\n",
              "      <td>0 days 03:04:00</td>\n",
              "    </tr>\n",
              "    <tr>\n",
              "      <th>502</th>\n",
              "      <td>0 days 02:56:00</td>\n",
              "    </tr>\n",
              "    <tr>\n",
              "      <th>504</th>\n",
              "      <td>0 days 02:31:00</td>\n",
              "    </tr>\n",
              "    <tr>\n",
              "      <th>506</th>\n",
              "      <td>0 days 02:07:00</td>\n",
              "    </tr>\n",
              "  </tbody>\n",
              "</table>\n",
              "<p>116 rows × 1 columns</p>\n",
              "</div><br><label><b>dtype:</b> timedelta64[ns]</label>"
            ]
          },
          "metadata": {},
          "execution_count": 14
        }
      ]
    },
    {
      "cell_type": "markdown",
      "source": [
        "Now I want to know how many of the 507 matches were 2+ hours."
      ],
      "metadata": {
        "id": "gtQJg1A0Bt0W"
      }
    },
    {
      "cell_type": "code",
      "source": [
        "long_matches.count()"
      ],
      "metadata": {
        "colab": {
          "base_uri": "https://localhost:8080/"
        },
        "id": "MkaFO7b1BuGF",
        "outputId": "71557f09-60e0-4317-cd5e-dff3a2bdd9a3"
      },
      "execution_count": null,
      "outputs": [
        {
          "output_type": "execute_result",
          "data": {
            "text/plain": [
              "np.int64(116)"
            ]
          },
          "metadata": {},
          "execution_count": 15
        }
      ]
    },
    {
      "cell_type": "markdown",
      "source": [
        "Now we'll use our prior along with a bernoulli distribution to predict 2000 more matches."
      ],
      "metadata": {
        "id": "vosm_CwrDtyT"
      }
    },
    {
      "cell_type": "code",
      "source": [
        "LM_data = np.repeat([1,0], repeats = [116,391])\n",
        "with pm.Model() as LM_model:\n",
        "  #prior based on my guess\n",
        "  θ = pm.Beta('θ' , alpha = 3. , beta = 10.)\n",
        "  y = pm.Bernoulli('y', p = θ, observed = LM_data)\n",
        "  sample_FLM = pm.sample(2000)"
      ],
      "metadata": {
        "id": "gzwsCnpW8eWd"
      },
      "execution_count": null,
      "outputs": []
    },
    {
      "cell_type": "markdown",
      "source": [
        "We can plot these 2000 matches sampled from the model of the posterior to see the most likely percentage chance of one of Fritz's matches going over 2 hours"
      ],
      "metadata": {
        "id": "piRa8mAqFwse"
      }
    },
    {
      "cell_type": "code",
      "source": [
        "az.plot_posterior(sample_FLM)"
      ],
      "metadata": {
        "colab": {
          "base_uri": "https://localhost:8080/",
          "height": 475
        },
        "id": "sQt5Y1LQ9Ufm",
        "outputId": "2b41756a-93fd-4ec2-b69c-5a7701513445"
      },
      "execution_count": 10,
      "outputs": [
        {
          "output_type": "execute_result",
          "data": {
            "text/plain": [
              "<Axes: title={'center': 'θ'}>"
            ]
          },
          "metadata": {},
          "execution_count": 10
        },
        {
          "output_type": "display_data",
          "data": {
            "text/plain": [
              "<Figure size 640x480 with 1 Axes>"
            ],
            "image/png": "[encoded data removed]"
          },
          "metadata": {}
        }
      ]
    },
    {
      "cell_type": "markdown",
      "source": [
        "23%. This is reasonably close to my prior, and a believable statistic. I think this makes sense. I didn't have the best idea of what the percentage would be but I knew it would be on the less likely side, but not insanely unlikely."
      ],
      "metadata": {
        "id": "875orgbWGLy2"
      }
    },
    {
      "cell_type": "markdown",
      "source": [
        "Though the statistic seems reasonable, I don't think this model was great. It weighted all of his matches equally, even the ones from 5+ years ago, and he's probably changed as a player since then. I also didn't account for different types of courts(hard, grass, etc.) which is an issue because different types of courts can speed up or slow down a match."
      ],
      "metadata": {
        "id": "SpRswK4SJa-f"
      }
    }
  ]
}